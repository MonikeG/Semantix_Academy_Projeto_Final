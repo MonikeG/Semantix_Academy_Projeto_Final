{
 "cells": [
  {
   "attachments": {},
   "cell_type": "markdown",
   "metadata": {},
   "source": [
    "### Criação de um modelo matemático para prever a nota de redação do enem com base em seus componentes usando regressão linear multipla"
   ]
  },
  {
   "attachments": {},
   "cell_type": "markdown",
   "metadata": {},
   "source": [
    "### Analise Inicial<br>"
   ]
  },
  {
   "cell_type": "code",
   "execution_count": 151,
   "metadata": {},
   "outputs": [],
   "source": [
    "import pandas as pd\n",
    "import numpy as np\n"
   ]
  },
  {
   "cell_type": "code",
   "execution_count": 152,
   "metadata": {},
   "outputs": [],
   "source": [
    "#Carregamento dos dados já separados em componentes\n",
    "\n",
    "componentes = pd.read_csv(\"Componentes_Redacao_Enem_2021.csv\")"
   ]
  },
  {
   "cell_type": "code",
   "execution_count": 153,
   "metadata": {},
   "outputs": [
    {
     "name": "stdout",
     "output_type": "stream",
     "text": [
      "\n",
      "Dimensões:\n",
      "(3389832, 7)\n",
      "\n",
      "\n",
      "Campos:\n",
      "['Unnamed: 0', 'NU_NOTA_COMP1', 'NU_NOTA_COMP2', 'NU_NOTA_COMP3', 'NU_NOTA_COMP4', 'NU_NOTA_COMP5', 'NU_NOTA_REDACAO']\n",
      "\n",
      "\n",
      "Tipos dos dados:\n",
      "Unnamed: 0           int64\n",
      "NU_NOTA_COMP1      float64\n",
      "NU_NOTA_COMP2      float64\n",
      "NU_NOTA_COMP3      float64\n",
      "NU_NOTA_COMP4      float64\n",
      "NU_NOTA_COMP5      float64\n",
      "NU_NOTA_REDACAO    float64\n",
      "dtype: object\n",
      "\n"
     ]
    }
   ],
   "source": [
    "#descrição da base de dados\n",
    "print(\"\\nDimensões:\\n{0}\\n\".format(componentes.shape))\n",
    "print(\"\\nCampos:\\n{0}\\n\".format(list(componentes.keys())))\n",
    "print(\"\\nTipos dos dados:\\n{0}\\n\".format(componentes.dtypes))"
   ]
  },
  {
   "attachments": {},
   "cell_type": "markdown",
   "metadata": {},
   "source": [
    "#### Descrição dos componentes:\n",
    "\n",
    "NU_NOTA_COMP1: Nota da competência 1 - Demonstrar domínio da modalidade escrita formal da Língua Portuguesa.<br>\n",
    "<br>\n",
    "NU_NOTA_COMP2: Nota da competência 2 - Compreender a proposta de redação e aplicar conceitos das várias áreas de conhecimento para desenvolver o tema, dentro dos limites estruturais do texto dissertativo-argumentativo em prosa.<br>\n",
    "<br>\n",
    "NU_NOTA_COMP3: Nota da competência 3 - Selecionar, relacionar, organizar e interpretar informações, fatos, opiniões e argumentos em defesa de um ponto de vista.<br>\n",
    "<br>\n",
    "NU_NOTA_COMP4: Nota da competência 4 - Demonstrar conhecimento dos mecanismos linguísticos necessários para a construção da argumentação.<br>\n",
    "<br>\n",
    "NU_NOTA_COMP5: Nota da competência 5 - Elaborar proposta de intervenção para o problema abordado, respeitando os direitos humanos.<br>\n",
    "<br>\n",
    "NU_NOTA_REDACAO: Nota da prova de redação"
   ]
  },
  {
   "cell_type": "code",
   "execution_count": 154,
   "metadata": {},
   "outputs": [
    {
     "name": "stdout",
     "output_type": "stream",
     "text": [
      "   Unnamed: 0  NU_NOTA_COMP1  NU_NOTA_COMP2  NU_NOTA_COMP3  NU_NOTA_COMP4  \\\n",
      "0           0          140.0          120.0          120.0          180.0   \n",
      "1           1          120.0          120.0          120.0          120.0   \n",
      "2           2            NaN            NaN            NaN            NaN   \n",
      "3           3          120.0          180.0          120.0          200.0   \n",
      "4           4          120.0          140.0          160.0          180.0   \n",
      "5           5            NaN            NaN            NaN            NaN   \n",
      "6           6          100.0          120.0          100.0          120.0   \n",
      "7           7            NaN            NaN            NaN            NaN   \n",
      "8           8          120.0          120.0           80.0          100.0   \n",
      "9           9           80.0          120.0           80.0           80.0   \n",
      "\n",
      "   NU_NOTA_COMP5  NU_NOTA_REDACAO  \n",
      "0          200.0            760.0  \n",
      "1           80.0            560.0  \n",
      "2            NaN              NaN  \n",
      "3          160.0            780.0  \n",
      "4          180.0            780.0  \n",
      "5            NaN              NaN  \n",
      "6           40.0            480.0  \n",
      "7            NaN              NaN  \n",
      "8          100.0            520.0  \n",
      "9           20.0            380.0  \n"
     ]
    }
   ],
   "source": [
    "print(componentes.head(10))"
   ]
  },
  {
   "cell_type": "code",
   "execution_count": 155,
   "metadata": {},
   "outputs": [
    {
     "name": "stdout",
     "output_type": "stream",
     "text": [
      "\n",
      "Valores Faltantes:\n",
      "Unnamed: 0               0\n",
      "NU_NOTA_COMP1      1011453\n",
      "NU_NOTA_COMP2      1011453\n",
      "NU_NOTA_COMP3      1011453\n",
      "NU_NOTA_COMP4      1011453\n",
      "NU_NOTA_COMP5      1011453\n",
      "NU_NOTA_REDACAO    1011453\n",
      "dtype: int64\n",
      "\n"
     ]
    }
   ],
   "source": [
    "#valores nulos\n",
    "print(\"\\nValores Faltantes:\\n{0}\\n\".format(componentes.isnull().sum()))"
   ]
  },
  {
   "attachments": {},
   "cell_type": "markdown",
   "metadata": {},
   "source": [
    "Estão faltando dados de 1.011.453 redações. Como a falta dessas notas irá prejudicar o modelo, esses dados serão retirados. \n",
    "Embora esses dados representem cerca de 1/3 da base de dados, substituir esses valores por 0 ou pelos valores da média dos dados, não irá trazer benefícios ao modelo"
   ]
  },
  {
   "cell_type": "code",
   "execution_count": 156,
   "metadata": {},
   "outputs": [],
   "source": [
    "#Remoção dos valores nulos\n",
    "componentes = componentes.dropna()\n"
   ]
  },
  {
   "cell_type": "code",
   "execution_count": 157,
   "metadata": {},
   "outputs": [
    {
     "name": "stdout",
     "output_type": "stream",
     "text": [
      "\n",
      "Valores Faltantes:\n",
      "Unnamed: 0         0\n",
      "NU_NOTA_COMP1      0\n",
      "NU_NOTA_COMP2      0\n",
      "NU_NOTA_COMP3      0\n",
      "NU_NOTA_COMP4      0\n",
      "NU_NOTA_COMP5      0\n",
      "NU_NOTA_REDACAO    0\n",
      "dtype: int64\n",
      "\n"
     ]
    }
   ],
   "source": [
    "#confirmação da remoção dos valores nulos\n",
    "print(\"\\nValores Faltantes:\\n{0}\\n\".format(componentes.isnull().sum()))\n"
   ]
  },
  {
   "cell_type": "code",
   "execution_count": 158,
   "metadata": {},
   "outputs": [
    {
     "data": {
      "text/html": [
       "<div>\n",
       "<style scoped>\n",
       "    .dataframe tbody tr th:only-of-type {\n",
       "        vertical-align: middle;\n",
       "    }\n",
       "\n",
       "    .dataframe tbody tr th {\n",
       "        vertical-align: top;\n",
       "    }\n",
       "\n",
       "    .dataframe thead th {\n",
       "        text-align: right;\n",
       "    }\n",
       "</style>\n",
       "<table border=\"1\" class=\"dataframe\">\n",
       "  <thead>\n",
       "    <tr style=\"text-align: right;\">\n",
       "      <th></th>\n",
       "      <th>Unnamed: 0</th>\n",
       "      <th>NU_NOTA_COMP1</th>\n",
       "      <th>NU_NOTA_COMP2</th>\n",
       "      <th>NU_NOTA_COMP3</th>\n",
       "      <th>NU_NOTA_COMP4</th>\n",
       "      <th>NU_NOTA_COMP5</th>\n",
       "      <th>NU_NOTA_REDACAO</th>\n",
       "    </tr>\n",
       "  </thead>\n",
       "  <tbody>\n",
       "    <tr>\n",
       "      <th>Unnamed: 0</th>\n",
       "      <td>1.000000</td>\n",
       "      <td>-0.075141</td>\n",
       "      <td>-0.115022</td>\n",
       "      <td>-0.099980</td>\n",
       "      <td>-0.110891</td>\n",
       "      <td>-0.135339</td>\n",
       "      <td>-0.125135</td>\n",
       "    </tr>\n",
       "    <tr>\n",
       "      <th>NU_NOTA_COMP1</th>\n",
       "      <td>-0.075141</td>\n",
       "      <td>1.000000</td>\n",
       "      <td>0.719232</td>\n",
       "      <td>0.805451</td>\n",
       "      <td>0.824612</td>\n",
       "      <td>0.611643</td>\n",
       "      <td>0.863942</td>\n",
       "    </tr>\n",
       "    <tr>\n",
       "      <th>NU_NOTA_COMP2</th>\n",
       "      <td>-0.115022</td>\n",
       "      <td>0.719232</td>\n",
       "      <td>1.000000</td>\n",
       "      <td>0.814748</td>\n",
       "      <td>0.777865</td>\n",
       "      <td>0.678650</td>\n",
       "      <td>0.894539</td>\n",
       "    </tr>\n",
       "    <tr>\n",
       "      <th>NU_NOTA_COMP3</th>\n",
       "      <td>-0.099980</td>\n",
       "      <td>0.805451</td>\n",
       "      <td>0.814748</td>\n",
       "      <td>1.000000</td>\n",
       "      <td>0.838510</td>\n",
       "      <td>0.694860</td>\n",
       "      <td>0.918302</td>\n",
       "    </tr>\n",
       "    <tr>\n",
       "      <th>NU_NOTA_COMP4</th>\n",
       "      <td>-0.110891</td>\n",
       "      <td>0.824612</td>\n",
       "      <td>0.777865</td>\n",
       "      <td>0.838510</td>\n",
       "      <td>1.000000</td>\n",
       "      <td>0.696472</td>\n",
       "      <td>0.915502</td>\n",
       "    </tr>\n",
       "    <tr>\n",
       "      <th>NU_NOTA_COMP5</th>\n",
       "      <td>-0.135339</td>\n",
       "      <td>0.611643</td>\n",
       "      <td>0.678650</td>\n",
       "      <td>0.694860</td>\n",
       "      <td>0.696472</td>\n",
       "      <td>1.000000</td>\n",
       "      <td>0.860290</td>\n",
       "    </tr>\n",
       "    <tr>\n",
       "      <th>NU_NOTA_REDACAO</th>\n",
       "      <td>-0.125135</td>\n",
       "      <td>0.863942</td>\n",
       "      <td>0.894539</td>\n",
       "      <td>0.918302</td>\n",
       "      <td>0.915502</td>\n",
       "      <td>0.860290</td>\n",
       "      <td>1.000000</td>\n",
       "    </tr>\n",
       "  </tbody>\n",
       "</table>\n",
       "</div>"
      ],
      "text/plain": [
       "                 Unnamed: 0  NU_NOTA_COMP1  NU_NOTA_COMP2  NU_NOTA_COMP3  \\\n",
       "Unnamed: 0         1.000000      -0.075141      -0.115022      -0.099980   \n",
       "NU_NOTA_COMP1     -0.075141       1.000000       0.719232       0.805451   \n",
       "NU_NOTA_COMP2     -0.115022       0.719232       1.000000       0.814748   \n",
       "NU_NOTA_COMP3     -0.099980       0.805451       0.814748       1.000000   \n",
       "NU_NOTA_COMP4     -0.110891       0.824612       0.777865       0.838510   \n",
       "NU_NOTA_COMP5     -0.135339       0.611643       0.678650       0.694860   \n",
       "NU_NOTA_REDACAO   -0.125135       0.863942       0.894539       0.918302   \n",
       "\n",
       "                 NU_NOTA_COMP4  NU_NOTA_COMP5  NU_NOTA_REDACAO  \n",
       "Unnamed: 0           -0.110891      -0.135339        -0.125135  \n",
       "NU_NOTA_COMP1         0.824612       0.611643         0.863942  \n",
       "NU_NOTA_COMP2         0.777865       0.678650         0.894539  \n",
       "NU_NOTA_COMP3         0.838510       0.694860         0.918302  \n",
       "NU_NOTA_COMP4         1.000000       0.696472         0.915502  \n",
       "NU_NOTA_COMP5         0.696472       1.000000         0.860290  \n",
       "NU_NOTA_REDACAO       0.915502       0.860290         1.000000  "
      ]
     },
     "execution_count": 158,
     "metadata": {},
     "output_type": "execute_result"
    }
   ],
   "source": [
    "# Verificação de correlação entre as variáveis\n",
    "componentes.corr()"
   ]
  },
  {
   "attachments": {},
   "cell_type": "markdown",
   "metadata": {},
   "source": [
    "É importante para criação do modelo que as variáveis não possuam correlação, para isso serão aceitas correlações < 0,9.\n",
    "\n",
    "Avaliando a correlação entre as variáveis e a correlação com a nota do enem, que é nosso objetivo de previsão, serão utilizadas as componentes 2, 4 e 5 por terem menor correlação entre si e maior correlação com a nota da redação."
   ]
  },
  {
   "attachments": {},
   "cell_type": "markdown",
   "metadata": {},
   "source": [
    "#### Separação da base de treino e teste "
   ]
  },
  {
   "cell_type": "code",
   "execution_count": 159,
   "metadata": {},
   "outputs": [],
   "source": [
    "from sklearn.model_selection import train_test_split"
   ]
  },
  {
   "cell_type": "code",
   "execution_count": 160,
   "metadata": {},
   "outputs": [],
   "source": [
    "# Particiona a base de dados\n",
    "\n",
    "\n",
    "X = componentes[['NU_NOTA_COMP2', 'NU_NOTA_COMP4', 'NU_NOTA_COMP5']]\n",
    "\n",
    "y = componentes[['NU_NOTA_REDACAO']]\n",
    "\n",
    "X_train, X_test, y_train, y_test = train_test_split(X, y, random_state=0, test_size=0.1)"
   ]
  },
  {
   "cell_type": "code",
   "execution_count": 161,
   "metadata": {},
   "outputs": [],
   "source": [
    "from sklearn.linear_model import LinearRegression"
   ]
  },
  {
   "cell_type": "code",
   "execution_count": 162,
   "metadata": {},
   "outputs": [
    {
     "name": "stdout",
     "output_type": "stream",
     "text": [
      "\n",
      "Variáveis independentes:\n",
      "        NU_NOTA_COMP2  NU_NOTA_COMP4  NU_NOTA_COMP5\n",
      "713173            0.0            0.0            0.0\n",
      "361491          120.0          120.0          140.0\n",
      "956439          200.0          180.0          160.0\n",
      "986035          120.0          140.0           40.0\n",
      "616636          200.0          140.0          120.0\n",
      "\n"
     ]
    }
   ],
   "source": [
    "\n",
    "print(\"\\nVariáveis independentes:\\n{0}\\n\".format(X_train.head()))"
   ]
  },
  {
   "cell_type": "code",
   "execution_count": 163,
   "metadata": {},
   "outputs": [
    {
     "name": "stdout",
     "output_type": "stream",
     "text": [
      "\n",
      "Variavel dependente:\n",
      "        NU_NOTA_REDACAO\n",
      "713173              0.0\n",
      "361491            600.0\n",
      "956439            840.0\n",
      "986035            520.0\n",
      "616636            700.0\n",
      "\n"
     ]
    }
   ],
   "source": [
    "print(\"\\nVariavel dependente:\\n{0}\\n\".format(y_train.head()))"
   ]
  },
  {
   "cell_type": "code",
   "execution_count": 164,
   "metadata": {},
   "outputs": [
    {
     "data": {
      "text/html": [
       "<style>#sk-container-id-5 {color: black;background-color: white;}#sk-container-id-5 pre{padding: 0;}#sk-container-id-5 div.sk-toggleable {background-color: white;}#sk-container-id-5 label.sk-toggleable__label {cursor: pointer;display: block;width: 100%;margin-bottom: 0;padding: 0.3em;box-sizing: border-box;text-align: center;}#sk-container-id-5 label.sk-toggleable__label-arrow:before {content: \"▸\";float: left;margin-right: 0.25em;color: #696969;}#sk-container-id-5 label.sk-toggleable__label-arrow:hover:before {color: black;}#sk-container-id-5 div.sk-estimator:hover label.sk-toggleable__label-arrow:before {color: black;}#sk-container-id-5 div.sk-toggleable__content {max-height: 0;max-width: 0;overflow: hidden;text-align: left;background-color: #f0f8ff;}#sk-container-id-5 div.sk-toggleable__content pre {margin: 0.2em;color: black;border-radius: 0.25em;background-color: #f0f8ff;}#sk-container-id-5 input.sk-toggleable__control:checked~div.sk-toggleable__content {max-height: 200px;max-width: 100%;overflow: auto;}#sk-container-id-5 input.sk-toggleable__control:checked~label.sk-toggleable__label-arrow:before {content: \"▾\";}#sk-container-id-5 div.sk-estimator input.sk-toggleable__control:checked~label.sk-toggleable__label {background-color: #d4ebff;}#sk-container-id-5 div.sk-label input.sk-toggleable__control:checked~label.sk-toggleable__label {background-color: #d4ebff;}#sk-container-id-5 input.sk-hidden--visually {border: 0;clip: rect(1px 1px 1px 1px);clip: rect(1px, 1px, 1px, 1px);height: 1px;margin: -1px;overflow: hidden;padding: 0;position: absolute;width: 1px;}#sk-container-id-5 div.sk-estimator {font-family: monospace;background-color: #f0f8ff;border: 1px dotted black;border-radius: 0.25em;box-sizing: border-box;margin-bottom: 0.5em;}#sk-container-id-5 div.sk-estimator:hover {background-color: #d4ebff;}#sk-container-id-5 div.sk-parallel-item::after {content: \"\";width: 100%;border-bottom: 1px solid gray;flex-grow: 1;}#sk-container-id-5 div.sk-label:hover label.sk-toggleable__label {background-color: #d4ebff;}#sk-container-id-5 div.sk-serial::before {content: \"\";position: absolute;border-left: 1px solid gray;box-sizing: border-box;top: 0;bottom: 0;left: 50%;z-index: 0;}#sk-container-id-5 div.sk-serial {display: flex;flex-direction: column;align-items: center;background-color: white;padding-right: 0.2em;padding-left: 0.2em;position: relative;}#sk-container-id-5 div.sk-item {position: relative;z-index: 1;}#sk-container-id-5 div.sk-parallel {display: flex;align-items: stretch;justify-content: center;background-color: white;position: relative;}#sk-container-id-5 div.sk-item::before, #sk-container-id-5 div.sk-parallel-item::before {content: \"\";position: absolute;border-left: 1px solid gray;box-sizing: border-box;top: 0;bottom: 0;left: 50%;z-index: -1;}#sk-container-id-5 div.sk-parallel-item {display: flex;flex-direction: column;z-index: 1;position: relative;background-color: white;}#sk-container-id-5 div.sk-parallel-item:first-child::after {align-self: flex-end;width: 50%;}#sk-container-id-5 div.sk-parallel-item:last-child::after {align-self: flex-start;width: 50%;}#sk-container-id-5 div.sk-parallel-item:only-child::after {width: 0;}#sk-container-id-5 div.sk-dashed-wrapped {border: 1px dashed gray;margin: 0 0.4em 0.5em 0.4em;box-sizing: border-box;padding-bottom: 0.4em;background-color: white;}#sk-container-id-5 div.sk-label label {font-family: monospace;font-weight: bold;display: inline-block;line-height: 1.2em;}#sk-container-id-5 div.sk-label-container {text-align: center;}#sk-container-id-5 div.sk-container {/* jupyter's `normalize.less` sets `[hidden] { display: none; }` but bootstrap.min.css set `[hidden] { display: none !important; }` so we also need the `!important` here to be able to override the default hidden behavior on the sphinx rendered scikit-learn.org. See: https://github.com/scikit-learn/scikit-learn/issues/21755 */display: inline-block !important;position: relative;}#sk-container-id-5 div.sk-text-repr-fallback {display: none;}</style><div id=\"sk-container-id-5\" class=\"sk-top-container\"><div class=\"sk-text-repr-fallback\"><pre>LinearRegression()</pre><b>In a Jupyter environment, please rerun this cell to show the HTML representation or trust the notebook. <br />On GitHub, the HTML representation is unable to render, please try loading this page with nbviewer.org.</b></div><div class=\"sk-container\" hidden><div class=\"sk-item\"><div class=\"sk-estimator sk-toggleable\"><input class=\"sk-toggleable__control sk-hidden--visually\" id=\"sk-estimator-id-5\" type=\"checkbox\" checked><label for=\"sk-estimator-id-5\" class=\"sk-toggleable__label sk-toggleable__label-arrow\">LinearRegression</label><div class=\"sk-toggleable__content\"><pre>LinearRegression()</pre></div></div></div></div></div>"
      ],
      "text/plain": [
       "LinearRegression()"
      ]
     },
     "execution_count": 164,
     "metadata": {},
     "output_type": "execute_result"
    }
   ],
   "source": [
    "modelo = LinearRegression()\n",
    "modelo.fit(X_train, y_train)"
   ]
  },
  {
   "cell_type": "code",
   "execution_count": 165,
   "metadata": {},
   "outputs": [
    {
     "name": "stdout",
     "output_type": "stream",
     "text": [
      "\n",
      "Intercepto:\n",
      "[34.63905109]\n",
      "\n"
     ]
    }
   ],
   "source": [
    "print(\"\\nIntercepto:\\n{0}\\n\".format(modelo.intercept_))"
   ]
  },
  {
   "cell_type": "code",
   "execution_count": 166,
   "metadata": {},
   "outputs": [
    {
     "name": "stdout",
     "output_type": "stream",
     "text": [
      "\n",
      "Coeficientes:\n",
      "[[1.43629753 2.0171083  1.082881  ]]\n",
      "\n"
     ]
    }
   ],
   "source": [
    "print(\"\\nCoeficientes:\\n{0}\\n\".format(modelo.coef_))"
   ]
  },
  {
   "cell_type": "code",
   "execution_count": 167,
   "metadata": {},
   "outputs": [
    {
     "name": "stdout",
     "output_type": "stream",
     "text": [
      "Equação: NOTA REDAÇÃO = 34.64 + 1.44*NU_NOTA_COMP2 + 2.02*NU_NOTA_COMP4 + 1.08*NU_NOTA_COMP5\n"
     ]
    }
   ],
   "source": [
    "print(\"Equação: NOTA REDAÇÃO = {:.2f} + {:.2f}*NU_NOTA_COMP2 + {:.2f}*NU_NOTA_COMP4 + {:.2f}*NU_NOTA_COMP5\".format(modelo.intercept_[0], modelo.coef_[0][0], modelo.coef_[0][1], modelo.coef_[0][2]))"
   ]
  },
  {
   "cell_type": "code",
   "execution_count": 168,
   "metadata": {},
   "outputs": [],
   "source": [
    "y_prediction =  modelo.predict(X_test)\n"
   ]
  },
  {
   "cell_type": "code",
   "execution_count": 169,
   "metadata": {},
   "outputs": [],
   "source": [
    "from sklearn.metrics import r2_score\n",
    "from sklearn.metrics import mean_squared_error, mean_absolute_error"
   ]
  },
  {
   "cell_type": "code",
   "execution_count": 170,
   "metadata": {},
   "outputs": [
    {
     "name": "stdout",
     "output_type": "stream",
     "text": [
      "\n",
      "Score:\n",
      "0.9767480484145006\n",
      "\n",
      "\n",
      "mean_squared_error:\n",
      "844.7870602529442\n",
      "\n",
      "\n",
      "mean_absolute_error:\n",
      "23.11463362695624\n",
      "\n"
     ]
    }
   ],
   "source": [
    "score=r2_score(y_test,y_prediction)\n",
    "print(\"\\nScore:\\n{0}\\n\".format(score))\n",
    "print(\"\\nmean_squared_error:\\n{0}\\n\".format(mean_squared_error(y_test, y_prediction)))\n",
    "print(\"\\nmean_absolute_error:\\n{0}\\n\".format(mean_absolute_error(y_test, y_prediction)))"
   ]
  },
  {
   "cell_type": "code",
   "execution_count": 171,
   "metadata": {},
   "outputs": [
    {
     "name": "stdout",
     "output_type": "stream",
     "text": [
      "         NU_NOTA_COMP2  NU_NOTA_COMP4  NU_NOTA_COMP5  NOTA_REAL  NOTA_PREVISTA\n",
      "1419965          120.0          120.0          160.0      620.0     622.308711\n",
      "3055296          120.0          120.0          120.0      600.0     578.993471\n",
      "2311912          120.0          120.0           80.0      560.0     535.678231\n",
      "1150127          120.0          120.0           80.0      540.0     535.678231\n",
      "3345609          180.0          120.0            0.0      540.0     535.225603\n",
      "...                ...            ...            ...        ...            ...\n",
      "741721           200.0          160.0          160.0      780.0     817.896845\n",
      "1261477          120.0          120.0          140.0      640.0     600.651091\n",
      "2675661          160.0          100.0          120.0      620.0     596.103206\n",
      "1418674          120.0          100.0           20.0      460.0     430.363205\n",
      "605861           120.0           80.0           20.0      400.0     390.021039\n",
      "\n",
      "[237838 rows x 5 columns]\n"
     ]
    }
   ],
   "source": [
    "# Criando uma coluna com previsão\n",
    "\n",
    "previsao = pd.DataFrame(X_test)\n",
    "previsao['NOTA_REAL'] = y_test\n",
    "previsao['NOTA_PREVISTA'] = y_prediction\n",
    "    \n",
    "print(previsao)"
   ]
  },
  {
   "attachments": {},
   "cell_type": "markdown",
   "metadata": {},
   "source": [
    "Com esse modelo é possível fazer a previsão da nota de redação do Enem contendo apenas 3 das 5 componentes utilizadas para o cálculo da nota. \n",
    "O modelo mostrou ter uma boa capacidade de previsão com um score de 0,98 e um erro médio de 23.11 pontos."
   ]
  },
  {
   "cell_type": "markdown",
   "metadata": {},
   "source": []
  }
 ],
 "metadata": {
  "kernelspec": {
   "display_name": "Python 3",
   "language": "python",
   "name": "python3"
  },
  "language_info": {
   "codemirror_mode": {
    "name": "ipython",
    "version": 3
   },
   "file_extension": ".py",
   "mimetype": "text/x-python",
   "name": "python",
   "nbconvert_exporter": "python",
   "pygments_lexer": "ipython3",
   "version": "3.10.8 (tags/v3.10.8:aaaf517, Oct 11 2022, 16:50:30) [MSC v.1933 64 bit (AMD64)]"
  },
  "orig_nbformat": 4,
  "vscode": {
   "interpreter": {
    "hash": "e0acaf148705ed9ed86cc5cad12259d7985e30670e5686e5f55604a9b3b84a55"
   }
  }
 },
 "nbformat": 4,
 "nbformat_minor": 2
}
