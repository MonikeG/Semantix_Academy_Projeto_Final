{
 "cells": [
  {
   "cell_type": "code",
   "execution_count": 55,
   "metadata": {},
   "outputs": [],
   "source": [
    "import pandas as pd\n",
    "import numpy as np \n",
    "import matplotlib.pyplot as plt"
   ]
  },
  {
   "cell_type": "code",
   "execution_count": 56,
   "metadata": {},
   "outputs": [
    {
     "data": {
      "text/html": [
       "<div>\n",
       "<style scoped>\n",
       "    .dataframe tbody tr th:only-of-type {\n",
       "        vertical-align: middle;\n",
       "    }\n",
       "\n",
       "    .dataframe tbody tr th {\n",
       "        vertical-align: top;\n",
       "    }\n",
       "\n",
       "    .dataframe thead th {\n",
       "        text-align: right;\n",
       "    }\n",
       "</style>\n",
       "<table border=\"1\" class=\"dataframe\">\n",
       "  <thead>\n",
       "    <tr style=\"text-align: right;\">\n",
       "      <th></th>\n",
       "      <th>Unnamed: 0</th>\n",
       "      <th>TP_FAIXA_ETARIA</th>\n",
       "      <th>TP_SEXO</th>\n",
       "      <th>TP_ESTADO_CIVIL</th>\n",
       "      <th>TP_COR_RACA</th>\n",
       "      <th>TP_NACIONALIDADE</th>\n",
       "      <th>TP_ST_CONCLUSAO</th>\n",
       "      <th>TP_ANO_CONCLUIU</th>\n",
       "      <th>TP_ESCOLA</th>\n",
       "      <th>TP_ENSINO</th>\n",
       "      <th>...</th>\n",
       "      <th>TP_LOCALIZACAO_ESC</th>\n",
       "      <th>TP_SIT_FUNC_ESC</th>\n",
       "      <th>CO_MUNICIPIO_PROVA</th>\n",
       "      <th>NO_MUNICIPIO_PROVA</th>\n",
       "      <th>CO_UF_PROVA</th>\n",
       "      <th>SG_UF_PROVA</th>\n",
       "      <th>TP_PRESENCA_CN</th>\n",
       "      <th>TP_PRESENCA_CH</th>\n",
       "      <th>TP_PRESENCA_LC</th>\n",
       "      <th>TP_PRESENCA_MT</th>\n",
       "    </tr>\n",
       "  </thead>\n",
       "  <tbody>\n",
       "    <tr>\n",
       "      <th>0</th>\n",
       "      <td>0</td>\n",
       "      <td>5</td>\n",
       "      <td>F</td>\n",
       "      <td>1</td>\n",
       "      <td>1</td>\n",
       "      <td>1</td>\n",
       "      <td>1</td>\n",
       "      <td>3</td>\n",
       "      <td>1</td>\n",
       "      <td>NaN</td>\n",
       "      <td>...</td>\n",
       "      <td>NaN</td>\n",
       "      <td>NaN</td>\n",
       "      <td>3144805</td>\n",
       "      <td>Nova Lima</td>\n",
       "      <td>31</td>\n",
       "      <td>MG</td>\n",
       "      <td>0</td>\n",
       "      <td>1</td>\n",
       "      <td>1</td>\n",
       "      <td>0</td>\n",
       "    </tr>\n",
       "    <tr>\n",
       "      <th>1</th>\n",
       "      <td>1</td>\n",
       "      <td>12</td>\n",
       "      <td>M</td>\n",
       "      <td>1</td>\n",
       "      <td>1</td>\n",
       "      <td>1</td>\n",
       "      <td>1</td>\n",
       "      <td>11</td>\n",
       "      <td>1</td>\n",
       "      <td>NaN</td>\n",
       "      <td>...</td>\n",
       "      <td>NaN</td>\n",
       "      <td>NaN</td>\n",
       "      <td>2704302</td>\n",
       "      <td>Maceió</td>\n",
       "      <td>27</td>\n",
       "      <td>AL</td>\n",
       "      <td>1</td>\n",
       "      <td>1</td>\n",
       "      <td>1</td>\n",
       "      <td>1</td>\n",
       "    </tr>\n",
       "    <tr>\n",
       "      <th>2</th>\n",
       "      <td>2</td>\n",
       "      <td>13</td>\n",
       "      <td>F</td>\n",
       "      <td>3</td>\n",
       "      <td>1</td>\n",
       "      <td>1</td>\n",
       "      <td>1</td>\n",
       "      <td>15</td>\n",
       "      <td>1</td>\n",
       "      <td>NaN</td>\n",
       "      <td>...</td>\n",
       "      <td>NaN</td>\n",
       "      <td>NaN</td>\n",
       "      <td>3515707</td>\n",
       "      <td>Ferraz de Vasconcelos</td>\n",
       "      <td>35</td>\n",
       "      <td>SP</td>\n",
       "      <td>0</td>\n",
       "      <td>0</td>\n",
       "      <td>0</td>\n",
       "      <td>0</td>\n",
       "    </tr>\n",
       "    <tr>\n",
       "      <th>3</th>\n",
       "      <td>3</td>\n",
       "      <td>3</td>\n",
       "      <td>M</td>\n",
       "      <td>1</td>\n",
       "      <td>3</td>\n",
       "      <td>1</td>\n",
       "      <td>2</td>\n",
       "      <td>0</td>\n",
       "      <td>2</td>\n",
       "      <td>1.0</td>\n",
       "      <td>...</td>\n",
       "      <td>1.0</td>\n",
       "      <td>1.0</td>\n",
       "      <td>2304202</td>\n",
       "      <td>Crato</td>\n",
       "      <td>23</td>\n",
       "      <td>CE</td>\n",
       "      <td>1</td>\n",
       "      <td>1</td>\n",
       "      <td>1</td>\n",
       "      <td>1</td>\n",
       "    </tr>\n",
       "    <tr>\n",
       "      <th>4</th>\n",
       "      <td>4</td>\n",
       "      <td>2</td>\n",
       "      <td>F</td>\n",
       "      <td>1</td>\n",
       "      <td>3</td>\n",
       "      <td>1</td>\n",
       "      <td>2</td>\n",
       "      <td>0</td>\n",
       "      <td>2</td>\n",
       "      <td>1.0</td>\n",
       "      <td>...</td>\n",
       "      <td>1.0</td>\n",
       "      <td>1.0</td>\n",
       "      <td>2300150</td>\n",
       "      <td>Acarape</td>\n",
       "      <td>23</td>\n",
       "      <td>CE</td>\n",
       "      <td>1</td>\n",
       "      <td>1</td>\n",
       "      <td>1</td>\n",
       "      <td>1</td>\n",
       "    </tr>\n",
       "  </tbody>\n",
       "</table>\n",
       "<p>5 rows × 26 columns</p>\n",
       "</div>"
      ],
      "text/plain": [
       "   Unnamed: 0  TP_FAIXA_ETARIA TP_SEXO  TP_ESTADO_CIVIL  TP_COR_RACA  \\\n",
       "0           0                5       F                1            1   \n",
       "1           1               12       M                1            1   \n",
       "2           2               13       F                3            1   \n",
       "3           3                3       M                1            3   \n",
       "4           4                2       F                1            3   \n",
       "\n",
       "   TP_NACIONALIDADE  TP_ST_CONCLUSAO  TP_ANO_CONCLUIU  TP_ESCOLA  TP_ENSINO  \\\n",
       "0                 1                1                3          1        NaN   \n",
       "1                 1                1               11          1        NaN   \n",
       "2                 1                1               15          1        NaN   \n",
       "3                 1                2                0          2        1.0   \n",
       "4                 1                2                0          2        1.0   \n",
       "\n",
       "   ...  TP_LOCALIZACAO_ESC  TP_SIT_FUNC_ESC CO_MUNICIPIO_PROVA  \\\n",
       "0  ...                 NaN              NaN            3144805   \n",
       "1  ...                 NaN              NaN            2704302   \n",
       "2  ...                 NaN              NaN            3515707   \n",
       "3  ...                 1.0              1.0            2304202   \n",
       "4  ...                 1.0              1.0            2300150   \n",
       "\n",
       "      NO_MUNICIPIO_PROVA CO_UF_PROVA  SG_UF_PROVA  TP_PRESENCA_CN  \\\n",
       "0              Nova Lima          31           MG               0   \n",
       "1                 Maceió          27           AL               1   \n",
       "2  Ferraz de Vasconcelos          35           SP               0   \n",
       "3                  Crato          23           CE               1   \n",
       "4                Acarape          23           CE               1   \n",
       "\n",
       "   TP_PRESENCA_CH  TP_PRESENCA_LC TP_PRESENCA_MT  \n",
       "0               1               1              0  \n",
       "1               1               1              1  \n",
       "2               0               0              0  \n",
       "3               1               1              1  \n",
       "4               1               1              1  \n",
       "\n",
       "[5 rows x 26 columns]"
      ]
     },
     "execution_count": 56,
     "metadata": {},
     "output_type": "execute_result"
    }
   ],
   "source": [
    "dados = pd.read_csv('Dados_Gerais_Enem_2021.csv')\n",
    "dados.head()"
   ]
  },
  {
   "cell_type": "code",
   "execution_count": 57,
   "metadata": {},
   "outputs": [
    {
     "data": {
      "text/plain": [
       "Index(['Unnamed: 0', 'TP_FAIXA_ETARIA', 'TP_SEXO', 'TP_ESTADO_CIVIL',\n",
       "       'TP_COR_RACA', 'TP_NACIONALIDADE', 'TP_ST_CONCLUSAO', 'TP_ANO_CONCLUIU',\n",
       "       'TP_ESCOLA', 'TP_ENSINO', 'IN_TREINEIRO', 'CO_MUNICIPIO_ESC',\n",
       "       'NO_MUNICIPIO_ESC', 'CO_UF_ESC', 'SG_UF_ESC', 'TP_DEPENDENCIA_ADM_ESC',\n",
       "       'TP_LOCALIZACAO_ESC', 'TP_SIT_FUNC_ESC', 'CO_MUNICIPIO_PROVA',\n",
       "       'NO_MUNICIPIO_PROVA', 'CO_UF_PROVA', 'SG_UF_PROVA', 'TP_PRESENCA_CN',\n",
       "       'TP_PRESENCA_CH', 'TP_PRESENCA_LC', 'TP_PRESENCA_MT'],\n",
       "      dtype='object')"
      ]
     },
     "execution_count": 57,
     "metadata": {},
     "output_type": "execute_result"
    }
   ],
   "source": [
    "dados.columns"
   ]
  },
  {
   "cell_type": "code",
   "execution_count": 58,
   "metadata": {},
   "outputs": [
    {
     "data": {
      "text/plain": [
       "Unnamed: 0                  int64\n",
       "TP_FAIXA_ETARIA             int64\n",
       "TP_SEXO                    object\n",
       "TP_ESTADO_CIVIL             int64\n",
       "TP_COR_RACA                 int64\n",
       "TP_NACIONALIDADE            int64\n",
       "TP_ST_CONCLUSAO             int64\n",
       "TP_ANO_CONCLUIU             int64\n",
       "TP_ESCOLA                   int64\n",
       "TP_ENSINO                 float64\n",
       "IN_TREINEIRO                int64\n",
       "CO_MUNICIPIO_ESC          float64\n",
       "NO_MUNICIPIO_ESC           object\n",
       "CO_UF_ESC                 float64\n",
       "SG_UF_ESC                  object\n",
       "TP_DEPENDENCIA_ADM_ESC    float64\n",
       "TP_LOCALIZACAO_ESC        float64\n",
       "TP_SIT_FUNC_ESC           float64\n",
       "CO_MUNICIPIO_PROVA          int64\n",
       "NO_MUNICIPIO_PROVA         object\n",
       "CO_UF_PROVA                 int64\n",
       "SG_UF_PROVA                object\n",
       "TP_PRESENCA_CN              int64\n",
       "TP_PRESENCA_CH              int64\n",
       "TP_PRESENCA_LC              int64\n",
       "TP_PRESENCA_MT              int64\n",
       "dtype: object"
      ]
     },
     "execution_count": 58,
     "metadata": {},
     "output_type": "execute_result"
    }
   ],
   "source": [
    "dados.dtypes"
   ]
  },
  {
   "cell_type": "code",
   "execution_count": 59,
   "metadata": {},
   "outputs": [
    {
     "data": {
      "text/plain": [
       "Unnamed: 0                      0\n",
       "TP_FAIXA_ETARIA                 0\n",
       "TP_SEXO                         0\n",
       "TP_ESTADO_CIVIL                 0\n",
       "TP_COR_RACA                     0\n",
       "TP_NACIONALIDADE                0\n",
       "TP_ST_CONCLUSAO                 0\n",
       "TP_ANO_CONCLUIU                 0\n",
       "TP_ESCOLA                       0\n",
       "TP_ENSINO                 2293004\n",
       "IN_TREINEIRO                    0\n",
       "CO_MUNICIPIO_ESC          2576026\n",
       "NO_MUNICIPIO_ESC          2576026\n",
       "CO_UF_ESC                 2576026\n",
       "SG_UF_ESC                 2576026\n",
       "TP_DEPENDENCIA_ADM_ESC    2576026\n",
       "TP_LOCALIZACAO_ESC        2576026\n",
       "TP_SIT_FUNC_ESC           2576026\n",
       "CO_MUNICIPIO_PROVA              0\n",
       "NO_MUNICIPIO_PROVA              0\n",
       "CO_UF_PROVA                     0\n",
       "SG_UF_PROVA                     0\n",
       "TP_PRESENCA_CN                  0\n",
       "TP_PRESENCA_CH                  0\n",
       "TP_PRESENCA_LC                  0\n",
       "TP_PRESENCA_MT                  0\n",
       "dtype: int64"
      ]
     },
     "execution_count": 59,
     "metadata": {},
     "output_type": "execute_result"
    }
   ],
   "source": [
    "dados.isnull().sum()"
   ]
  },
  {
   "cell_type": "markdown",
   "metadata": {},
   "source": [
    "Muitos dados relacionados a localização estão faltando, esses atributos serão removidos"
   ]
  },
  {
   "cell_type": "code",
   "execution_count": null,
   "metadata": {},
   "outputs": [],
   "source": [
    "idade = dados['TP_FAIXA_ETARIA']\n",
    "idade = pd.DataFrame(idade)"
   ]
  },
  {
   "cell_type": "code",
   "execution_count": null,
   "metadata": {},
   "outputs": [
    {
     "name": "stdout",
     "output_type": "stream",
     "text": [
      "       TP_FAIXA_ETARIA\n",
      "count     3.389832e+06\n",
      "mean      5.306013e+00\n",
      "std       3.902871e+00\n",
      "min       1.000000e+00\n",
      "25%       2.000000e+00\n",
      "50%       4.000000e+00\n",
      "75%       7.000000e+00\n",
      "max       2.000000e+01\n"
     ]
    }
   ],
   "source": [
    "print(idade.describe())"
   ]
  },
  {
   "cell_type": "code",
   "execution_count": null,
   "metadata": {},
   "outputs": [
    {
     "data": {
      "image/png": "[encoded data removed]",
      "text/plain": [
       "<Figure size 640x480 with 1 Axes>"
      ]
     },
     "metadata": {},
     "output_type": "display_data"
    }
   ],
   "source": [
    "plt.hist(idade, bins=20)\n",
    "plt.show()"
   ]
  },
  {
   "cell_type": "code",
   "execution_count": null,
   "metadata": {},
   "outputs": [
    {
     "data": {
      "text/plain": [
       "TP_FAIXA_ETARIA    131934\n",
       "dtype: int64"
      ]
     },
     "execution_count": 46,
     "metadata": {},
     "output_type": "execute_result"
    }
   ],
   "source": [
    "mais_de_40_anos = idade >13\n",
    "mais_de_40_anos.sum()\n"
   ]
  },
  {
   "cell_type": "code",
   "execution_count": null,
   "metadata": {},
   "outputs": [
    {
     "data": {
      "text/plain": [
       "TP_FAIXA_ETARIA    0.038921\n",
       "dtype: float64"
      ]
     },
     "execution_count": 47,
     "metadata": {},
     "output_type": "execute_result"
    }
   ],
   "source": [
    "mais_de_40_anos.sum()/3.389832e+06"
   ]
  },
  {
   "cell_type": "markdown",
   "metadata": {},
   "source": [
    "- 75% dos participantes tem até 22 anos\n",
    "- apenas 3,9% dos participantes tem acima de 40 anos"
   ]
  },
  {
   "cell_type": "markdown",
   "metadata": {},
   "source": [
    "### Perfil dos participantes 40+"
   ]
  },
  {
   "cell_type": "code",
   "execution_count": null,
   "metadata": {},
   "outputs": [
    {
     "data": {
      "text/html": [
       "<div>\n",
       "<style scoped>\n",
       "    .dataframe tbody tr th:only-of-type {\n",
       "        vertical-align: middle;\n",
       "    }\n",
       "\n",
       "    .dataframe tbody tr th {\n",
       "        vertical-align: top;\n",
       "    }\n",
       "\n",
       "    .dataframe thead th {\n",
       "        text-align: right;\n",
       "    }\n",
       "</style>\n",
       "<table border=\"1\" class=\"dataframe\">\n",
       "  <thead>\n",
       "    <tr style=\"text-align: right;\">\n",
       "      <th></th>\n",
       "      <th>Unnamed: 0</th>\n",
       "      <th>TP_FAIXA_ETARIA</th>\n",
       "      <th>TP_SEXO</th>\n",
       "      <th>TP_ESTADO_CIVIL</th>\n",
       "      <th>TP_COR_RACA</th>\n",
       "      <th>TP_NACIONALIDADE</th>\n",
       "      <th>TP_ST_CONCLUSAO</th>\n",
       "      <th>TP_ANO_CONCLUIU</th>\n",
       "      <th>TP_ESCOLA</th>\n",
       "      <th>TP_ENSINO</th>\n",
       "      <th>...</th>\n",
       "      <th>TP_LOCALIZACAO_ESC</th>\n",
       "      <th>TP_SIT_FUNC_ESC</th>\n",
       "      <th>CO_MUNICIPIO_PROVA</th>\n",
       "      <th>NO_MUNICIPIO_PROVA</th>\n",
       "      <th>CO_UF_PROVA</th>\n",
       "      <th>SG_UF_PROVA</th>\n",
       "      <th>TP_PRESENCA_CN</th>\n",
       "      <th>TP_PRESENCA_CH</th>\n",
       "      <th>TP_PRESENCA_LC</th>\n",
       "      <th>TP_PRESENCA_MT</th>\n",
       "    </tr>\n",
       "  </thead>\n",
       "  <tbody>\n",
       "    <tr>\n",
       "      <th>68</th>\n",
       "      <td>68</td>\n",
       "      <td>14</td>\n",
       "      <td>F</td>\n",
       "      <td>2</td>\n",
       "      <td>1</td>\n",
       "      <td>2</td>\n",
       "      <td>1</td>\n",
       "      <td>1</td>\n",
       "      <td>1</td>\n",
       "      <td>NaN</td>\n",
       "      <td>...</td>\n",
       "      <td>NaN</td>\n",
       "      <td>NaN</td>\n",
       "      <td>3304904</td>\n",
       "      <td>São Gonçalo</td>\n",
       "      <td>33</td>\n",
       "      <td>RJ</td>\n",
       "      <td>1</td>\n",
       "      <td>1</td>\n",
       "      <td>1</td>\n",
       "      <td>1</td>\n",
       "    </tr>\n",
       "    <tr>\n",
       "      <th>69</th>\n",
       "      <td>69</td>\n",
       "      <td>14</td>\n",
       "      <td>M</td>\n",
       "      <td>1</td>\n",
       "      <td>3</td>\n",
       "      <td>1</td>\n",
       "      <td>1</td>\n",
       "      <td>15</td>\n",
       "      <td>1</td>\n",
       "      <td>NaN</td>\n",
       "      <td>...</td>\n",
       "      <td>NaN</td>\n",
       "      <td>NaN</td>\n",
       "      <td>2611606</td>\n",
       "      <td>Recife</td>\n",
       "      <td>26</td>\n",
       "      <td>PE</td>\n",
       "      <td>0</td>\n",
       "      <td>0</td>\n",
       "      <td>0</td>\n",
       "      <td>0</td>\n",
       "    </tr>\n",
       "    <tr>\n",
       "      <th>158</th>\n",
       "      <td>158</td>\n",
       "      <td>14</td>\n",
       "      <td>F</td>\n",
       "      <td>3</td>\n",
       "      <td>1</td>\n",
       "      <td>1</td>\n",
       "      <td>1</td>\n",
       "      <td>15</td>\n",
       "      <td>1</td>\n",
       "      <td>NaN</td>\n",
       "      <td>...</td>\n",
       "      <td>NaN</td>\n",
       "      <td>NaN</td>\n",
       "      <td>2507507</td>\n",
       "      <td>João Pessoa</td>\n",
       "      <td>25</td>\n",
       "      <td>PB</td>\n",
       "      <td>1</td>\n",
       "      <td>1</td>\n",
       "      <td>1</td>\n",
       "      <td>1</td>\n",
       "    </tr>\n",
       "    <tr>\n",
       "      <th>211</th>\n",
       "      <td>211</td>\n",
       "      <td>14</td>\n",
       "      <td>M</td>\n",
       "      <td>2</td>\n",
       "      <td>3</td>\n",
       "      <td>1</td>\n",
       "      <td>1</td>\n",
       "      <td>0</td>\n",
       "      <td>1</td>\n",
       "      <td>NaN</td>\n",
       "      <td>...</td>\n",
       "      <td>NaN</td>\n",
       "      <td>NaN</td>\n",
       "      <td>2504009</td>\n",
       "      <td>Campina Grande</td>\n",
       "      <td>25</td>\n",
       "      <td>PB</td>\n",
       "      <td>0</td>\n",
       "      <td>0</td>\n",
       "      <td>0</td>\n",
       "      <td>0</td>\n",
       "    </tr>\n",
       "    <tr>\n",
       "      <th>254</th>\n",
       "      <td>254</td>\n",
       "      <td>16</td>\n",
       "      <td>F</td>\n",
       "      <td>1</td>\n",
       "      <td>1</td>\n",
       "      <td>1</td>\n",
       "      <td>1</td>\n",
       "      <td>15</td>\n",
       "      <td>1</td>\n",
       "      <td>NaN</td>\n",
       "      <td>...</td>\n",
       "      <td>NaN</td>\n",
       "      <td>NaN</td>\n",
       "      <td>3548500</td>\n",
       "      <td>Santos</td>\n",
       "      <td>35</td>\n",
       "      <td>SP</td>\n",
       "      <td>1</td>\n",
       "      <td>1</td>\n",
       "      <td>1</td>\n",
       "      <td>1</td>\n",
       "    </tr>\n",
       "  </tbody>\n",
       "</table>\n",
       "<p>5 rows × 26 columns</p>\n",
       "</div>"
      ],
      "text/plain": [
       "     Unnamed: 0  TP_FAIXA_ETARIA TP_SEXO  TP_ESTADO_CIVIL  TP_COR_RACA  \\\n",
       "68           68               14       F                2            1   \n",
       "69           69               14       M                1            3   \n",
       "158         158               14       F                3            1   \n",
       "211         211               14       M                2            3   \n",
       "254         254               16       F                1            1   \n",
       "\n",
       "     TP_NACIONALIDADE  TP_ST_CONCLUSAO  TP_ANO_CONCLUIU  TP_ESCOLA  TP_ENSINO  \\\n",
       "68                  2                1                1          1        NaN   \n",
       "69                  1                1               15          1        NaN   \n",
       "158                 1                1               15          1        NaN   \n",
       "211                 1                1                0          1        NaN   \n",
       "254                 1                1               15          1        NaN   \n",
       "\n",
       "     ...  TP_LOCALIZACAO_ESC  TP_SIT_FUNC_ESC CO_MUNICIPIO_PROVA  \\\n",
       "68   ...                 NaN              NaN            3304904   \n",
       "69   ...                 NaN              NaN            2611606   \n",
       "158  ...                 NaN              NaN            2507507   \n",
       "211  ...                 NaN              NaN            2504009   \n",
       "254  ...                 NaN              NaN            3548500   \n",
       "\n",
       "     NO_MUNICIPIO_PROVA CO_UF_PROVA  SG_UF_PROVA  TP_PRESENCA_CN  \\\n",
       "68          São Gonçalo          33           RJ               1   \n",
       "69               Recife          26           PE               0   \n",
       "158         João Pessoa          25           PB               1   \n",
       "211      Campina Grande          25           PB               0   \n",
       "254              Santos          35           SP               1   \n",
       "\n",
       "     TP_PRESENCA_CH  TP_PRESENCA_LC TP_PRESENCA_MT  \n",
       "68                1               1              1  \n",
       "69                0               0              0  \n",
       "158               1               1              1  \n",
       "211               0               0              0  \n",
       "254               1               1              1  \n",
       "\n",
       "[5 rows x 26 columns]"
      ]
     },
     "execution_count": 34,
     "metadata": {},
     "output_type": "execute_result"
    }
   ],
   "source": [
    "participantes_40 = dados.loc[dados['TP_FAIXA_ETARIA']>13]\n",
    "participantes_40.head()"
   ]
  },
  {
   "cell_type": "code",
   "execution_count": 76,
   "metadata": {},
   "outputs": [
    {
     "data": {
      "image/png": "[encoded data removed]",
      "text/plain": [
       "<Figure size 640x480 with 1 Axes>"
      ]
     },
     "metadata": {},
     "output_type": "display_data"
    }
   ],
   "source": [
    "plt.hist(participantes_40[[\"TP_COR_RACA\"]], bins=6)\n",
    "legend()\n",
    "plt.show()\n"
   ]
  },
  {
   "cell_type": "code",
   "execution_count": null,
   "metadata": {},
   "outputs": [],
   "source": []
  }
 ],
 "metadata": {
  "kernelspec": {
   "display_name": "Python 3.10.8 64-bit (microsoft store)",
   "language": "python",
   "name": "python3"
  },
  "language_info": {
   "codemirror_mode": {
    "name": "ipython",
    "version": 3
   },
   "file_extension": ".py",
   "mimetype": "text/x-python",
   "name": "python",
   "nbconvert_exporter": "python",
   "pygments_lexer": "ipython3",
   "version": "3.10.8 (tags/v3.10.8:aaaf517, Oct 11 2022, 16:50:30) [MSC v.1933 64 bit (AMD64)]"
  },
  "orig_nbformat": 4,
  "vscode": {
   "interpreter": {
    "hash": "e0acaf148705ed9ed86cc5cad12259d7985e30670e5686e5f55604a9b3b84a55"
   }
  }
 },
 "nbformat": 4,
 "nbformat_minor": 2
}
